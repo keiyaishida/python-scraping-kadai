{
  "nbformat": 4,
  "nbformat_minor": 0,
  "metadata": {
    "colab": {
      "provenance": []
    },
    "kernelspec": {
      "name": "python3",
      "display_name": "Python 3"
    },
    "language_info": {
      "name": "python"
    }
  },
  "cells": [
    {
      "cell_type": "code",
      "execution_count": 1,
      "metadata": {
        "colab": {
          "base_uri": "https://localhost:8080/",
          "height": 0
        },
        "id": "O3SoI-OdnEVv",
        "outputId": "de5f6f05-e526-44da-be42-6c63cf9c20fb"
      },
      "outputs": [
        {
          "output_type": "stream",
          "name": "stdout",
          "text": [
            "Requirement already satisfied: requests in /usr/local/lib/python3.10/dist-packages (2.32.3)\n",
            "Requirement already satisfied: charset-normalizer<4,>=2 in /usr/local/lib/python3.10/dist-packages (from requests) (3.4.0)\n",
            "Requirement already satisfied: idna<4,>=2.5 in /usr/local/lib/python3.10/dist-packages (from requests) (3.10)\n",
            "Requirement already satisfied: urllib3<3,>=1.21.1 in /usr/local/lib/python3.10/dist-packages (from requests) (2.2.3)\n",
            "Requirement already satisfied: certifi>=2017.4.17 in /usr/local/lib/python3.10/dist-packages (from requests) (2024.8.30)\n"
          ]
        }
      ],
      "source": [
        "!pip install requests"
      ]
    },
    {
      "cell_type": "code",
      "source": [
        "import requests\n",
        "from bs4 import BeautifulSoup"
      ],
      "metadata": {
        "id": "PwKJml_ynP35"
      },
      "execution_count": 7,
      "outputs": []
    },
    {
      "cell_type": "code",
      "source": [
        "!pip install beautifulsoup4"
      ],
      "metadata": {
        "colab": {
          "base_uri": "https://localhost:8080/",
          "height": 0
        },
        "id": "qosyY5_hnWiU",
        "outputId": "8672b76c-5f57-4885-9617-6c182976e18b"
      },
      "execution_count": 3,
      "outputs": [
        {
          "output_type": "stream",
          "name": "stdout",
          "text": [
            "Requirement already satisfied: beautifulsoup4 in /usr/local/lib/python3.10/dist-packages (4.12.3)\n",
            "Requirement already satisfied: soupsieve>1.2 in /usr/local/lib/python3.10/dist-packages (from beautifulsoup4) (2.6)\n"
          ]
        }
      ]
    },
    {
      "cell_type": "code",
      "source": [
        "url = 'https://news.yahoo.co.jp/articles/f91e36c2c67ee77967a7f45aa943e5acb81b9d2c'"
      ],
      "metadata": {
        "id": "davgKgpwn1ye"
      },
      "execution_count": 4,
      "outputs": []
    },
    {
      "cell_type": "code",
      "source": [
        "response = requests.get(url)"
      ],
      "metadata": {
        "id": "WxoUzapDn7Iv"
      },
      "execution_count": 5,
      "outputs": []
    },
    {
      "cell_type": "code",
      "source": [
        "soup = BeautifulSoup(response.text, 'html.parser')"
      ],
      "metadata": {
        "id": "hLAJJo5Dn_Me"
      },
      "execution_count": 8,
      "outputs": []
    },
    {
      "cell_type": "code",
      "source": [
        "article_element = soup.select_one('#uamods >  div > div > p')"
      ],
      "metadata": {
        "id": "40NR8TrnoIfM"
      },
      "execution_count": 15,
      "outputs": []
    },
    {
      "cell_type": "code",
      "source": [
        "article_text = article_element.text"
      ],
      "metadata": {
        "id": "bbWR1MHZokpg"
      },
      "execution_count": 16,
      "outputs": []
    },
    {
      "cell_type": "code",
      "source": [
        "print(article_text)"
      ],
      "metadata": {
        "colab": {
          "base_uri": "https://localhost:8080/",
          "height": 0
        },
        "id": "rl1Uaz3hpxqc",
        "outputId": "0674c90f-19bc-49f7-fb87-9d9960c2daf0"
      },
      "execution_count": 17,
      "outputs": [
        {
          "output_type": "stream",
          "name": "stdout",
          "text": [
            "　岡山県津山市一宮の用水路に電動車いすごと転落し、動けなくなっていた市内の男性（72）を現場にいた大人と津山商高（同市山北）の男子テニス部員が力を合わせて救助した。\n",
            "\n",
            "　津山署によると、男性は7月12日午後2時半ごろ、車いすの操作を誤って用水路（幅約1メートル、深さ約60センチ）に転落。介護福祉士前田麻美さん（47）＝同市＝が助けようとしたが、1人ではどうにもできなかった。\n",
            "\n",
            "　ランニング中に通りがかった部員6人は困っている前田さんに気付き、1年杭田翔馬さん（16）が「どうしたんですか」と声をかけた。2年谷口陽彦さん（17）の指示で用水路からの引き上げや警察の誘導係など役割を分担。後から加わった大人と靴がぬれるのも構わず用水路に入り、車いすを持ち上げて男性を助けた。\n",
            "\n",
            "　男性に大きなけがはなかった。杭田さんは「前田さんが困っているのを見て体が動いた」、谷口さんは「今後も誰かのために積極的に動けるようになりたい」と話した。\n",
            "\n",
            "　署は10月下旬、前田さんと部員ら救助に関わった9人に県善行賞を贈呈。安原卓志署長は「勇気ある行動」とたたえた。\n",
            "\n",
            "　他に表彰されたのは次の皆さん。（敬称略）\n",
            "\n",
            "　森山翔太、筧智也、木下翔琥、山下颯太（津山商高1年）美甘和伯（津山市椿高下）長尾国博（真庭市中）\n"
          ]
        }
      ]
    }
  ]
}